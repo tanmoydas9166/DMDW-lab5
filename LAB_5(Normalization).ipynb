{
  "nbformat": 4,
  "nbformat_minor": 0,
  "metadata": {
    "colab": {
      "name": "LAB_5(Normalization).ipynb",
      "provenance": [],
      "collapsed_sections": [],
      "include_colab_link": true
    },
    "kernelspec": {
      "name": "python3",
      "display_name": "Python 3"
    }
  },
  "cells": [
    {
      "cell_type": "markdown",
      "metadata": {
        "id": "view-in-github",
        "colab_type": "text"
      },
      "source": [
        "<a href=\"https://colab.research.google.com/github/tanmoydas9166/DMDW-lab5/blob/main/LAB_5(Normalization).ipynb\" target=\"_parent\"><img src=\"https://colab.research.google.com/assets/colab-badge.svg\" alt=\"Open In Colab\"/></a>"
      ]
    },
    {
      "cell_type": "markdown",
      "metadata": {
        "id": "hJjH4PauNIX4"
      },
      "source": [
        "### MIN-MAX **NORMALIZATION**"
      ]
    },
    {
      "cell_type": "code",
      "metadata": {
        "colab": {
          "base_uri": "https://localhost:8080/"
        },
        "id": "dnFUS1N7McFO",
        "outputId": "9db74c23-16c3-49a1-a534-501c7ffa5289"
      },
      "source": [
        "\n",
        "import numpy as np\n",
        "\n",
        "def normalize(x):\n",
        "    min = np.min(x)\n",
        "    max = np.max(x)\n",
        "    range = max - min\n",
        "\n",
        "    return [(a - min) / range for a in x]\n",
        "\n",
        "\n",
        "x = [7, 21, 13, 15]\n",
        "normalizedX = normalize(x)\n",
        "\n",
        "print(normalizedX)"
      ],
      "execution_count": null,
      "outputs": [
        {
          "output_type": "stream",
          "text": [
            "[0.0, 1.0, 0.42857142857142855, 0.5714285714285714]\n"
          ],
          "name": "stdout"
        }
      ]
    },
    {
      "cell_type": "markdown",
      "metadata": {
        "id": "8RXHYvBJQVop"
      },
      "source": [
        "# Z-SCORE **NORMALIZATION**"
      ]
    },
    {
      "cell_type": "code",
      "metadata": {
        "id": "MJLE9av9P3AI"
      },
      "source": [
        "import pandas as pd; \n",
        "import numpy as np\n"
      ],
      "execution_count": null,
      "outputs": []
    },
    {
      "cell_type": "code",
      "metadata": {
        "id": "A8_MPZIsQF5M"
      },
      "source": [
        "np.random.seed(0) \n"
      ],
      "execution_count": null,
      "outputs": []
    },
    {
      "cell_type": "code",
      "metadata": {
        "colab": {
          "base_uri": "https://localhost:8080/",
          "height": 202
        },
        "id": "UltZsrL2QL61",
        "outputId": "fc2a659b-5e6d-45e4-ef21-f832542921f8"
      },
      "source": [
        "df = pd.DataFrame(np.random.randn(5,3), columns=[\"randomA\", \"randomB\",\"randomC\"])\n",
        "df"
      ],
      "execution_count": null,
      "outputs": [
        {
          "output_type": "execute_result",
          "data": {
            "text/html": [
              "<div>\n",
              "<style scoped>\n",
              "    .dataframe tbody tr th:only-of-type {\n",
              "        vertical-align: middle;\n",
              "    }\n",
              "\n",
              "    .dataframe tbody tr th {\n",
              "        vertical-align: top;\n",
              "    }\n",
              "\n",
              "    .dataframe thead th {\n",
              "        text-align: right;\n",
              "    }\n",
              "</style>\n",
              "<table border=\"1\" class=\"dataframe\">\n",
              "  <thead>\n",
              "    <tr style=\"text-align: right;\">\n",
              "      <th></th>\n",
              "      <th>randomA</th>\n",
              "      <th>randomB</th>\n",
              "      <th>randomC</th>\n",
              "    </tr>\n",
              "  </thead>\n",
              "  <tbody>\n",
              "    <tr>\n",
              "      <th>0</th>\n",
              "      <td>0.333674</td>\n",
              "      <td>1.494079</td>\n",
              "      <td>-0.205158</td>\n",
              "    </tr>\n",
              "    <tr>\n",
              "      <th>1</th>\n",
              "      <td>0.313068</td>\n",
              "      <td>-0.854096</td>\n",
              "      <td>-2.552990</td>\n",
              "    </tr>\n",
              "    <tr>\n",
              "      <th>2</th>\n",
              "      <td>0.653619</td>\n",
              "      <td>0.864436</td>\n",
              "      <td>-0.742165</td>\n",
              "    </tr>\n",
              "    <tr>\n",
              "      <th>3</th>\n",
              "      <td>2.269755</td>\n",
              "      <td>-1.454366</td>\n",
              "      <td>0.045759</td>\n",
              "    </tr>\n",
              "    <tr>\n",
              "      <th>4</th>\n",
              "      <td>-0.187184</td>\n",
              "      <td>1.532779</td>\n",
              "      <td>1.469359</td>\n",
              "    </tr>\n",
              "  </tbody>\n",
              "</table>\n",
              "</div>"
            ],
            "text/plain": [
              "    randomA   randomB   randomC\n",
              "0  0.333674  1.494079 -0.205158\n",
              "1  0.313068 -0.854096 -2.552990\n",
              "2  0.653619  0.864436 -0.742165\n",
              "3  2.269755 -1.454366  0.045759\n",
              "4 -0.187184  1.532779  1.469359"
            ]
          },
          "metadata": {
            "tags": []
          },
          "execution_count": 7
        }
      ]
    },
    {
      "cell_type": "code",
      "metadata": {
        "id": "Elnxv_Y_QezL"
      },
      "source": [
        "def z_score(df):\n",
        "df.columns = [x + \"_zscore\" for x in df.columns.tolist()]\n",
        "return ((df - df.mean())/df.std(ddof=0))"
      ],
      "execution_count": null,
      "outputs": []
    },
    {
      "cell_type": "code",
      "metadata": {
        "colab": {
          "base_uri": "https://localhost:8080/",
          "height": 202
        },
        "id": "3ap0F0IzR-_5",
        "outputId": "bb355c81-3954-4f25-d579-6d8140af7319"
      },
      "source": [
        "z_score(df)"
      ],
      "execution_count": null,
      "outputs": [
        {
          "output_type": "execute_result",
          "data": {
            "text/html": [
              "<div>\n",
              "<style scoped>\n",
              "    .dataframe tbody tr th:only-of-type {\n",
              "        vertical-align: middle;\n",
              "    }\n",
              "\n",
              "    .dataframe tbody tr th {\n",
              "        vertical-align: top;\n",
              "    }\n",
              "\n",
              "    .dataframe thead th {\n",
              "        text-align: right;\n",
              "    }\n",
              "</style>\n",
              "<table border=\"1\" class=\"dataframe\">\n",
              "  <thead>\n",
              "    <tr style=\"text-align: right;\">\n",
              "      <th></th>\n",
              "      <th>randomA_zscore_zscore</th>\n",
              "      <th>randomB_zscore_zscore</th>\n",
              "      <th>randomC_zscore_zscore</th>\n",
              "    </tr>\n",
              "  </thead>\n",
              "  <tbody>\n",
              "    <tr>\n",
              "      <th>0</th>\n",
              "      <td>-0.407850</td>\n",
              "      <td>0.950564</td>\n",
              "      <td>0.147308</td>\n",
              "    </tr>\n",
              "    <tr>\n",
              "      <th>1</th>\n",
              "      <td>-0.432359</td>\n",
              "      <td>-0.945034</td>\n",
              "      <td>-1.655140</td>\n",
              "    </tr>\n",
              "    <tr>\n",
              "      <th>2</th>\n",
              "      <td>-0.027317</td>\n",
              "      <td>0.442276</td>\n",
              "      <td>-0.264956</td>\n",
              "    </tr>\n",
              "    <tr>\n",
              "      <th>3</th>\n",
              "      <td>1.894872</td>\n",
              "      <td>-1.429611</td>\n",
              "      <td>0.339939</td>\n",
              "    </tr>\n",
              "    <tr>\n",
              "      <th>4</th>\n",
              "      <td>-1.027345</td>\n",
              "      <td>0.981805</td>\n",
              "      <td>1.432848</td>\n",
              "    </tr>\n",
              "  </tbody>\n",
              "</table>\n",
              "</div>"
            ],
            "text/plain": [
              "   randomA_zscore_zscore  randomB_zscore_zscore  randomC_zscore_zscore\n",
              "0              -0.407850               0.950564               0.147308\n",
              "1              -0.432359              -0.945034              -1.655140\n",
              "2              -0.027317               0.442276              -0.264956\n",
              "3               1.894872              -1.429611               0.339939\n",
              "4              -1.027345               0.981805               1.432848"
            ]
          },
          "metadata": {
            "tags": []
          },
          "execution_count": 13
        }
      ]
    },
    {
      "cell_type": "code",
      "metadata": {
        "colab": {
          "base_uri": "https://localhost:8080/",
          "height": 202
        },
        "id": "1HNixjigSP3p",
        "outputId": "24b4cbd8-a528-4c8f-d8ef-ed295ad773bf"
      },
      "source": [
        "from scipy.stats import zscore\n",
        "df.apply(zscore) "
      ],
      "execution_count": null,
      "outputs": [
        {
          "output_type": "execute_result",
          "data": {
            "text/html": [
              "<div>\n",
              "<style scoped>\n",
              "    .dataframe tbody tr th:only-of-type {\n",
              "        vertical-align: middle;\n",
              "    }\n",
              "\n",
              "    .dataframe tbody tr th {\n",
              "        vertical-align: top;\n",
              "    }\n",
              "\n",
              "    .dataframe thead th {\n",
              "        text-align: right;\n",
              "    }\n",
              "</style>\n",
              "<table border=\"1\" class=\"dataframe\">\n",
              "  <thead>\n",
              "    <tr style=\"text-align: right;\">\n",
              "      <th></th>\n",
              "      <th>randomA_zscore_zscore</th>\n",
              "      <th>randomB_zscore_zscore</th>\n",
              "      <th>randomC_zscore_zscore</th>\n",
              "    </tr>\n",
              "  </thead>\n",
              "  <tbody>\n",
              "    <tr>\n",
              "      <th>0</th>\n",
              "      <td>-0.407850</td>\n",
              "      <td>0.950564</td>\n",
              "      <td>0.147308</td>\n",
              "    </tr>\n",
              "    <tr>\n",
              "      <th>1</th>\n",
              "      <td>-0.432359</td>\n",
              "      <td>-0.945034</td>\n",
              "      <td>-1.655140</td>\n",
              "    </tr>\n",
              "    <tr>\n",
              "      <th>2</th>\n",
              "      <td>-0.027317</td>\n",
              "      <td>0.442276</td>\n",
              "      <td>-0.264956</td>\n",
              "    </tr>\n",
              "    <tr>\n",
              "      <th>3</th>\n",
              "      <td>1.894872</td>\n",
              "      <td>-1.429611</td>\n",
              "      <td>0.339939</td>\n",
              "    </tr>\n",
              "    <tr>\n",
              "      <th>4</th>\n",
              "      <td>-1.027345</td>\n",
              "      <td>0.981805</td>\n",
              "      <td>1.432848</td>\n",
              "    </tr>\n",
              "  </tbody>\n",
              "</table>\n",
              "</div>"
            ],
            "text/plain": [
              "   randomA_zscore_zscore  randomB_zscore_zscore  randomC_zscore_zscore\n",
              "0              -0.407850               0.950564               0.147308\n",
              "1              -0.432359              -0.945034              -1.655140\n",
              "2              -0.027317               0.442276              -0.264956\n",
              "3               1.894872              -1.429611               0.339939\n",
              "4              -1.027345               0.981805               1.432848"
            ]
          },
          "metadata": {
            "tags": []
          },
          "execution_count": 14
        }
      ]
    }
  ]
}